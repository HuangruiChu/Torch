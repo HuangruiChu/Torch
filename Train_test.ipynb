{
 "cells": [
  {
   "cell_type": "code",
   "execution_count": null,
   "metadata": {},
   "outputs": [],
   "source": [
    "#基本的引入\n",
    "import torch\n",
    "import torchvision#为了转换图片格式\n",
    "import torch.nn as nn\n",
    "import torch.nn.functional as F\n",
    "from pytorchtools import EarlyStopping#为了实现earlystopping\n",
    "import matplotlib.pyplot as plt\n",
    "import numpy as np\n",
    "import os\n",
    "import cv2\n",
    "#为了minibatch的功能\n",
    "import torch.utils.data as Data\n",
    "\n",
    "torch.manual_seed(1)     # reproducible"
   ]
  },
  {
   "cell_type": "code",
   "execution_count": null,
   "metadata": {},
   "outputs": [],
   "source": [
    "#改编版本\n",
    "def train(model, device, loader,valid_loader, optimizer, epoch,loss_func):\n",
    "    ###################\n",
    "    # train the model #\n",
    "    ###################\n",
    "    model.train()\n",
    "    for step, (batch_x, batch_y) in enumerate(loader):\n",
    "        # here to train your model\n",
    "        X, y = batch_x.to(device),  batch_y.to(device)\n",
    "        optimizer.zero_grad()\n",
    "        output = model(X)\n",
    "        loss = loss_func(output, y)\n",
    "        loss.backward()\n",
    "        optimizer.step()\n",
    "        \n",
    "    ######################    \n",
    "    # validate the model #\n",
    "    ######################\n",
    "    model.eval() # prep model for evaluation\n",
    "    correct = 0\n",
    "    for step, (batch_x, batch_y) in enumerate(valid_loader):\n",
    "        X, y = batch_x.to(device),  batch_y.to(device)\n",
    "        # forward pass: compute predicted outputs by passing inputs to the model\n",
    "        output = model(X)\n",
    "        # calculate the correct label\n",
    "        pred = output.argmax(dim=1, keepdim=True) # get the index of the max log-probability\n",
    "        correct += pred.eq(y.view_as(pred)).sum().item()\n",
    "    \n",
    "    \n",
    "    print(\"Train Epoch: {} \\tLoss: {:.6f}，Valid_Accuracy: {}/{} ({:.0f}%)\\n\".format(\n",
    "        epoch,\n",
    "        loss.item(),\n",
    "        correct, len(valid_loader.dataset),\n",
    "        100. * correct / len(valid_loader.dataset)\n",
    "    ))\n"
   ]
  },
  {
   "cell_type": "code",
   "execution_count": null,
   "metadata": {},
   "outputs": [],
   "source": [
    "def test(model, device, test_loader,loss_func):\n",
    "    model.eval()\n",
    "    test_loss = 0\n",
    "    correct = 0\n",
    "    with torch.no_grad():\n",
    "        for X, y in test_loader:\n",
    "            X, y = X.to(device), y.to(device)\n",
    "            output = model(X)\n",
    "            test_loss += loss_func(output, y).item() # sum up batch loss\n",
    "            pred = output.argmax(dim=1, keepdim=True) # get the index of the max log-probability\n",
    "            correct += pred.eq(y.view_as(pred)).sum().item()\n",
    "\n",
    "    test_loss /= len(test_loader.dataset)\n",
    "\n",
    "    print('\\nTest set: Average loss: {:.4f}, Accuracy: {}/{} ({:.0f}%)\\n'.format(\n",
    "        test_loss, correct, len(test_loader.dataset),\n",
    "        100. * correct / len(test_loader.dataset)))"
   ]
  },
  {
   "cell_type": "code",
   "execution_count": null,
   "metadata": {},
   "outputs": [],
   "source": [
    "lr = 0.01\n",
    "momentum = 0.5\n",
    "# Detect if we have a GPU available\n",
    "device = torch.device(\"cuda:0\" if torch.cuda.is_available() else \"cpu\")\n",
    "model = CNN().to(device)#这个是和设备GPU/CPU相关的系数。\n",
    "optimizer = torch.optim.SGD(model.parameters(), lr=lr, momentum=momentum)\n",
    "loss_func = nn.CrossEntropyLoss()  # the target label is NOT an one-hotted\n",
    "train_loader=minibatch(X_train,y_train)\n",
    "valid_loader=minibatch(X_eval,y_eval)\n",
    "test_loader=minibatch(X_test,y_test)"
   ]
  },
  {
   "cell_type": "code",
   "execution_count": null,
   "metadata": {},
   "outputs": [],
   "source": [
    "epochs = 50\n",
    "for epoch in range(1, epochs + 1):\n",
    "    train(model, device, train_loader,valid_loader, optimizer, epoch,loss_func)\n",
    "    test(model, device, test_loader,loss_func)"
   ]
  },
  {
   "cell_type": "code",
   "execution_count": null,
   "metadata": {},
   "outputs": [],
   "source": [
    "# save_model = True\n",
    "# if (save_model):\n",
    "#     torch.save(model.state_dict(),\"cnn.pt\")"
   ]
  },
  {
   "cell_type": "code",
   "execution_count": null,
   "metadata": {},
   "outputs": [],
   "source": []
  },
  {
   "cell_type": "code",
   "execution_count": null,
   "metadata": {},
   "outputs": [],
   "source": []
  }
 ],
 "metadata": {
  "kernelspec": {
   "display_name": "Python 3",
   "language": "python",
   "name": "python3"
  },
  "language_info": {
   "codemirror_mode": {
    "name": "ipython",
    "version": 3
   },
   "file_extension": ".py",
   "mimetype": "text/x-python",
   "name": "python",
   "nbconvert_exporter": "python",
   "pygments_lexer": "ipython3",
   "version": "3.7.6"
  }
 },
 "nbformat": 4,
 "nbformat_minor": 4
}
