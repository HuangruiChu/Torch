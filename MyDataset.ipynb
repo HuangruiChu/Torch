{
 "cells": [
  {
   "cell_type": "markdown",
   "metadata": {},
   "source": [
    "尝试自己定义一个dataset"
   ]
  },
  {
   "cell_type": "code",
   "execution_count": null,
   "metadata": {},
   "outputs": [],
   "source": [
    "from torch.utils.data import Dataset, DataLoader\n",
    "from torchvision import transforms, utils"
   ]
  },
  {
   "cell_type": "code",
   "execution_count": null,
   "metadata": {},
   "outputs": [],
   "source": [
    "normalize = transforms.Normalize(\n",
    "    mean=[0.485, 0.456, 0.406],\n",
    "    std=[0.229, 0.224, 0.225]\n",
    ")\n",
    "preprocess = transforms.Compose([\n",
    "    #transforms.Scale(256),\n",
    "    #transforms.CenterCrop(224),\n",
    "    transforms.ToTensor(),\n",
    "    normalize\n",
    "])\n",
    "\n",
    "def default_loader(path):\n",
    "    img_pil =  Image.open(path)\n",
    "    img_pil = img_pil.resize((224,224))\n",
    "    img_tensor = preprocess(img_pil)\n",
    "    return img_tensor\n",
    "\n",
    "#当然出来的时候已经全都变成了tensor\n",
    "class trainset(Dataset):\n",
    "    def __init__(self, loader=default_loader):\n",
    "        #定义好 image 的路径\n",
    "        self.images = file_train\n",
    "        self.target = number_train\n",
    "        self.loader = loader\n",
    "\n",
    "    def __getitem__(self, index):\n",
    "        fn = self.images[index]\n",
    "        img = self.loader(fn)\n",
    "        target = self.target[index]\n",
    "        return img,target\n",
    "\n",
    "    def __len__(self):\n",
    "        return len(self.images)"
   ]
  },
  {
   "cell_type": "code",
   "execution_count": null,
   "metadata": {},
   "outputs": [],
   "source": [
    "#源自网络，处理的是有csv并在csv中分好类的dataset\n",
    "class MyDataset(Dataset): \n",
    "    \"\"\" my dataset.\"\"\"\n",
    "    \n",
    "    # Initialize your data, download, etc.\n",
    "    def __init__(self):\n",
    "        # 读取csv文件中的数据\n",
    "        xy = np.loadtxt('data-diabetes.csv', delimiter=',', dtype=np.float32) \n",
    "        self.len = xy.shape[0]\n",
    "        # 除去最后一列为数据位，存在x_data中\n",
    "        self.x_data = torch.from_numpy(xy[:, 0:-1])\n",
    "        # 最后一列为标签为，存在y_data中\n",
    "        self.y_data = torch.from_numpy(xy[:, [-1]])\n",
    "        \n",
    "    def __getitem__(self, index):\n",
    "        # 根据索引返回数据和对应的标签\n",
    "        return self.x_data[index], self.y_data[index]\n",
    "        \n",
    "    def __len__(self): \n",
    "        # 返回文件数据的数目\n",
    "        return self.len"
   ]
  }
 ],
 "metadata": {
  "kernelspec": {
   "display_name": "Python 3",
   "language": "python",
   "name": "python3"
  },
  "language_info": {
   "codemirror_mode": {
    "name": "ipython",
    "version": 3
   },
   "file_extension": ".py",
   "mimetype": "text/x-python",
   "name": "python",
   "nbconvert_exporter": "python",
   "pygments_lexer": "ipython3",
   "version": "3.7.6"
  }
 },
 "nbformat": 4,
 "nbformat_minor": 4
}
